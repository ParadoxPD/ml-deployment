{
  "cells": [
    {
      "cell_type": "code",
      "execution_count": 7,
      "metadata": {
        "colab": {
          "base_uri": "https://localhost:8080/"
        },
        "id": "w0zwZg1UlGPO",
        "outputId": "d035aa1a-bf7e-48d4-b24c-46edb05cad63"
      },
      "outputs": [
        {
          "name": "stdout",
          "output_type": "stream",
          "text": [
            "Score : 0.7331102153370137\n",
            "Accuracy : 73%\n"
          ]
        }
      ],
      "source": [
        "# Importing the libraries\n",
        "import numpy as np\n",
        "import pandas as pd # Data Manipulation, Data Cleaning, Data Exploration, Data Visualization\n",
        "import matplotlib.pyplot as plt\n",
        "import seaborn as sns\n",
        "from sklearn.preprocessing import StandardScaler\n",
        "from sklearn.linear_model import LinearRegression,LogisticRegression\n",
        "from sklearn.metrics import r2_score\n",
        "from sklearn.model_selection import train_test_split\n",
        "\n",
        "# Importing the data set\n",
        "url = 'https://drive.google.com/file/d/1mGd1jwG1jExXmJpmGgDhUY9awevlopdD/view?usp=sharing'\n",
        "path = 'https://drive.google.com/uc?export=download&id='+url.split('/')[-2]\n",
        "df = pd.read_csv(path)\n",
        "\n",
        "# Data Conversion and cleaning \n",
        "df.mainroad.replace(('yes', 'no'), (1, 0), inplace=True)\n",
        "df.guestroom.replace(('yes', 'no'), (1, 0), inplace=True)\n",
        "df.basement.replace(('yes', 'no'), (1, 0), inplace=True)\n",
        "df.hotwaterheating.replace(('yes', 'no'), (1, 0), inplace=True)\n",
        "df.airconditioning.replace(('yes', 'no'), (1, 0), inplace=True)\n",
        "df.prefarea.replace(('yes', 'no'), (1, 0), inplace=True)\n",
        "df.furnishingstatus.replace(('furnished', 'semi-furnished','unfurnished'), (1,0.5, 0), inplace=True)\n",
        "\n",
        "# Printing the dataframe information\n",
        "\n",
        "# print(df.info())\n",
        "# print(df.describe())\n",
        "# print(df.columns)\n",
        "\n",
        "# Creating the input and output matricies\n",
        "X=df[['area','bedrooms','bathrooms','stories','mainroad','guestroom','basement','hotwaterheating','airconditioning','parking','prefarea','furnishingstatus']]\n",
        "y=df['price']\n",
        "\n",
        "# Scaling the input data using Standard Scaler\n",
        "scaler = StandardScaler()\n",
        "scaled_X = scaler.fit_transform(X)\n",
        "# print(scaled_X)\n",
        "\n",
        "#Generating the Train and Test data\n",
        "X_train, X_test, y_train, y_test = train_test_split(scaled_X,y,test_size=0.2, random_state=10)\n",
        "# print((X_train.shape))\n",
        "# print((X_train))\n",
        "# print(len(X_test))\n",
        "\n",
        "# Initializing the LR Model\n",
        "LR_model = LinearRegression()\n",
        "\n",
        "#Training the model\n",
        "LR_model.fit(X_train, y_train)\n",
        "\n",
        "#Calculating Accuracy\n",
        "y_pred_LR = LR_model.predict(X_test)\n",
        "print(f'Score : {LR_model.score(X_test, y_test)}')\n",
        "print(f'Accuracy : {round((r2_score(y_test, y_pred_LR))*100)}%')\n",
        "\n"
      ]
    },
    {
      "cell_type": "code",
      "execution_count": 11,
      "metadata": {},
      "outputs": [
        {
          "data": {
            "text/plain": [
              "array([2681363.80144397])"
            ]
          },
          "execution_count": 11,
          "metadata": {},
          "output_type": "execute_result"
        }
      ],
      "source": [
        "LR_model.predict([[-0.92269542 , 0.04727831, -0.57018671 , 0.22441013, -2.46534421 ,-0.46531479, -0.73453933 ,-0.2192645, -0.67906259, -0.80574124, -0.55403469, -1.22296203]])\n",
        "# print(X_test[0])"
      ]
    },
    {
      "cell_type": "code",
      "execution_count": 4,
      "metadata": {},
      "outputs": [],
      "source": [
        "\n",
        "import pickle\n",
        "with open('model.pkl','wb') as file:\n",
        "    pickle.dump(LR_model,file)"
      ]
    }
  ],
  "metadata": {
    "colab": {
      "collapsed_sections": [],
      "name": "Python and Machine Learning Bootcamp.ipynb",
      "provenance": []
    },
    "kernelspec": {
      "display_name": "venv",
      "language": "python",
      "name": "venv"
    },
    "language_info": {
      "codemirror_mode": {
        "name": "ipython",
        "version": 3
      },
      "file_extension": ".py",
      "mimetype": "text/x-python",
      "name": "python",
      "nbconvert_exporter": "python",
      "pygments_lexer": "ipython3",
      "version": "3.8.5"
    },
    "vscode": {
      "interpreter": {
        "hash": "ac29ff4fb540824c64614fc8314e398678dcc995dcf54be18474a772a9f5dd05"
      }
    }
  },
  "nbformat": 4,
  "nbformat_minor": 0
}
